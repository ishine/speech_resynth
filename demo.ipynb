{
 "cells": [
  {
   "cell_type": "markdown",
   "metadata": {},
   "source": [
    "# Speech Resynthesis Using Conditional Flow Matching and Whisper Units"
   ]
  },
  {
   "cell_type": "code",
   "execution_count": null,
   "metadata": {},
   "outputs": [],
   "source": [
    "!pip install -r requirements.txt"
   ]
  },
  {
   "cell_type": "code",
   "execution_count": null,
   "metadata": {},
   "outputs": [],
   "source": [
    "!git clone https://huggingface.co/spaces/sarulab-speech/UTMOS-demo src/utmos\n",
    "\n",
    "!patch src/utmos/lightning_module.py src/patch/utmos_lightning_module.patch"
   ]
  },
  {
   "cell_type": "code",
   "execution_count": null,
   "metadata": {},
   "outputs": [],
   "source": [
    "!wget -t 0 -c -P data https://www.openslr.org/resources/141/test_clean.tar.gz\n",
    "!tar zxf data/test_clean.tar.gz -C data"
   ]
  },
  {
   "cell_type": "code",
   "execution_count": null,
   "metadata": {},
   "outputs": [],
   "source": [
    "import torchaudio\n",
    "from IPython.display import Audio\n",
    "\n",
    "from src.flow_matching.models import ConditionalFlowMatchingWithBigVGan\n",
    "from src.flow_matching.utils.whisper import WhisperFeatureExtractor, WhisperEncoder"
   ]
  },
  {
   "cell_type": "code",
   "execution_count": null,
   "metadata": {},
   "outputs": [],
   "source": [
    "# load model and processor\n",
    "feature_extractor = WhisperFeatureExtractor.from_pretrained(\"ryota-komatsu/whisper-large-v3-tokenizer\")\n",
    "encoder = WhisperEncoder.from_pretrained(\"ryota-komatsu/whisper-large-v3-tokenizer\").cuda()\n",
    "\n",
    "# download a pretrained model from hugging face hub\n",
    "decoder = ConditionalFlowMatchingWithBigVGan.from_pretrained(\"ryota-komatsu/flow_matching_with_bigvgan\").cuda()"
   ]
  },
  {
   "cell_type": "code",
   "execution_count": null,
   "metadata": {},
   "outputs": [],
   "source": [
    "wav_path = \"data/LibriTTS_R/test-clean/121/121726/121_121726_000004_000003.wav\""
   ]
  },
  {
   "cell_type": "markdown",
   "metadata": {},
   "source": [
    "load a waveform"
   ]
  },
  {
   "cell_type": "code",
   "execution_count": null,
   "metadata": {},
   "outputs": [],
   "source": [
    "waveform, sr = torchaudio.load(wav_path)\n",
    "waveform = torchaudio.functional.resample(waveform, sr, 16000)"
   ]
  },
  {
   "cell_type": "markdown",
   "metadata": {},
   "source": [
    "encode a waveform into pseudo-phonetic units"
   ]
  },
  {
   "cell_type": "code",
   "execution_count": null,
   "metadata": {},
   "outputs": [],
   "source": [
    "input_features = feature_extractor(\n",
    "    waveform.squeeze(0).numpy(),\n",
    "    return_tensors=\"pt\",\n",
    "    sampling_rate=16000,\n",
    "    device=\"cuda\",\n",
    "    padding=\"do_not_pad\",\n",
    ").input_features.to(\"cuda\")\n",
    "\n",
    "units = encoder.encode(input_features)\n",
    "units = units.unsqueeze(0) + 1  # 0: pad"
   ]
  },
  {
   "cell_type": "markdown",
   "metadata": {},
   "source": [
    "resynthesis"
   ]
  },
  {
   "cell_type": "code",
   "execution_count": null,
   "metadata": {},
   "outputs": [],
   "source": [
    "audio_values = decoder(units)[0]\n",
    "audio_values = audio_values.cpu()"
   ]
  },
  {
   "cell_type": "markdown",
   "metadata": {},
   "source": [
    "original speech"
   ]
  },
  {
   "cell_type": "code",
   "execution_count": null,
   "metadata": {},
   "outputs": [],
   "source": [
    "Audio(waveform, rate=16000)"
   ]
  },
  {
   "cell_type": "markdown",
   "metadata": {},
   "source": [
    "sampled speech"
   ]
  },
  {
   "cell_type": "code",
   "execution_count": null,
   "metadata": {},
   "outputs": [],
   "source": [
    "Audio(audio_values, rate=16000)"
   ]
  }
 ],
 "metadata": {
  "kernelspec": {
   "display_name": "py39",
   "language": "python",
   "name": "python3"
  },
  "language_info": {
   "codemirror_mode": {
    "name": "ipython",
    "version": 3
   },
   "file_extension": ".py",
   "mimetype": "text/x-python",
   "name": "python",
   "nbconvert_exporter": "python",
   "pygments_lexer": "ipython3",
   "version": "3.9.21"
  }
 },
 "nbformat": 4,
 "nbformat_minor": 2
}
